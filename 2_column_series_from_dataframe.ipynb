{
 "cells": [
  {
   "metadata": {},
   "cell_type": "markdown",
   "source": "Import pandas and read a data csv file",
   "id": "10985f70c063b4de"
  },
  {
   "metadata": {
    "collapsed": true
   },
   "cell_type": "code",
   "source": [
    "import pandas as pd\n",
    "\n",
    "df = pd.read_csv(\"orders.csv\")"
   ],
   "id": "6a80a4efb3333e5b",
   "outputs": [],
   "execution_count": null
  },
  {
   "metadata": {},
   "cell_type": "markdown",
   "source": "Use pandas to look a series (column)",
   "id": "e0544a8df4ad62a7"
  },
  {
   "metadata": {},
   "cell_type": "code",
   "source": "countries = df[\"Country\"] # Indexes the countries in the dataframe",
   "id": "693af396a055d560",
   "outputs": [],
   "execution_count": null
  },
  {
   "metadata": {},
   "cell_type": "code",
   "source": "countries # displays the countries series (column)",
   "id": "f9b21524eec97d6",
   "outputs": [],
   "execution_count": null
  },
  {
   "metadata": {},
   "cell_type": "code",
   "source": "len(countries) # gives the number of countries entries - total, not unique",
   "id": "1c2494f43ddc3f83",
   "outputs": [],
   "execution_count": null
  },
  {
   "metadata": {},
   "cell_type": "code",
   "source": "uniqco = set(countries) # creates a set of countries - uniques values",
   "id": "a85e2eb6a545c124",
   "outputs": [],
   "execution_count": null
  },
  {
   "metadata": {},
   "cell_type": "code",
   "source": "uniqco # displays the countries set",
   "id": "717473498047b3d9",
   "outputs": [],
   "execution_count": null
  },
  {
   "metadata": {},
   "cell_type": "code",
   "source": "len(uniqco) # gives the number of unique countries in the countries column",
   "id": "be7c3d3e60e20722",
   "outputs": [],
   "execution_count": null
  }
 ],
 "metadata": {
  "kernelspec": {
   "display_name": "Python 3",
   "language": "python",
   "name": "python3"
  },
  "language_info": {
   "codemirror_mode": {
    "name": "ipython",
    "version": 2
   },
   "file_extension": ".py",
   "mimetype": "text/x-python",
   "name": "python",
   "nbconvert_exporter": "python",
   "pygments_lexer": "ipython2",
   "version": "2.7.6"
  }
 },
 "nbformat": 4,
 "nbformat_minor": 5
}
