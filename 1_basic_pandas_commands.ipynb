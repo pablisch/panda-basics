{
 "cells": [
  {
   "metadata": {},
   "cell_type": "markdown",
   "source": "Import pandas and read a data csv file",
   "id": "10985f70c063b4de"
  },
  {
   "metadata": {
    "collapsed": true
   },
   "cell_type": "code",
   "source": [
    "import pandas as pd\n",
    "\n",
    "df = pd.read_csv(\"orders.csv\")"
   ],
   "id": "6a80a4efb3333e5b",
   "outputs": [],
   "execution_count": null
  },
  {
   "metadata": {},
   "cell_type": "markdown",
   "source": "Some basic panda commands",
   "id": "b3c390e9a2d7e755"
  },
  {
   "metadata": {},
   "cell_type": "code",
   "outputs": [],
   "execution_count": null,
   "source": "df # shows the dataframe",
   "id": "36db0d117b091765"
  },
  {
   "metadata": {},
   "cell_type": "code",
   "source": "df.head() # shows the dataframe's first 5 rows",
   "id": "c7d82f68614d2015",
   "outputs": [],
   "execution_count": null
  },
  {
   "metadata": {},
   "cell_type": "code",
   "source": "df.tail() # shows the dataframe's last 5 rows",
   "id": "df652f62f0b04f38",
   "outputs": [],
   "execution_count": null
  },
  {
   "metadata": {},
   "cell_type": "code",
   "source": "df.info() # shows the dataframe's basic information such as column types and number of entries",
   "id": "1a7848f8cb67240",
   "outputs": [],
   "execution_count": null
  },
  {
   "metadata": {},
   "cell_type": "code",
   "source": "df.describe() # shows some stats about the dataframe such as min, max and mean quantities for numeric columns",
   "id": "76c2d25ce81e1c46",
   "outputs": [],
   "execution_count": null
  },
  {
   "metadata": {},
   "cell_type": "code",
   "source": "df.columns # shows dataframe's column headings - NOTE there were no parentheses - no function call",
   "id": "cc8daa4623c13146",
   "outputs": [],
   "execution_count": null
  },
  {
   "metadata": {},
   "cell_type": "code",
   "source": "df.index # shows dataframe's index start, end and interval (step) - NOTE there were no parentheses - no function call",
   "id": "dd08ead13c90fb8d",
   "outputs": [],
   "execution_count": null
  }
 ],
 "metadata": {
  "kernelspec": {
   "display_name": "Python 3",
   "language": "python",
   "name": "python3"
  },
  "language_info": {
   "codemirror_mode": {
    "name": "ipython",
    "version": 2
   },
   "file_extension": ".py",
   "mimetype": "text/x-python",
   "name": "python",
   "nbconvert_exporter": "python",
   "pygments_lexer": "ipython2",
   "version": "2.7.6"
  }
 },
 "nbformat": 4,
 "nbformat_minor": 5
}
