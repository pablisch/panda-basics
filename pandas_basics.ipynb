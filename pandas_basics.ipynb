{
 "cells": [
  {
   "metadata": {},
   "cell_type": "markdown",
   "source": [
    "## Pandas basics\n",
    "- Basic pandas commands - head, tail, info, describe, columns and index\n",
    "- Creating a series - and basic commands\n",
    "- Creating a reduced dataframe from a dataframe\n",
    "- Using iloc to create a series\n",
    "- Using iloc to create a new dataframe"
   ],
   "id": "b3c390e9a2d7e755"
  },
  {
   "metadata": {},
   "cell_type": "markdown",
   "source": "### Import pandas and read a data csv file",
   "id": "10068a5ab9a54d60"
  },
  {
   "metadata": {
    "collapsed": true
   },
   "cell_type": "code",
   "outputs": [],
   "execution_count": null,
   "source": [
    "import pandas as pd\n",
    "\n",
    "df = pd.read_csv(\"orders.csv\")"
   ],
   "id": "910f73ec8bd34b5e"
  },
  {
   "metadata": {},
   "cell_type": "markdown",
   "source": "### Some basic panda commands",
   "id": "cc27b4bff480dd65"
  },
  {
   "metadata": {},
   "cell_type": "code",
   "source": "df # shows the dataframe",
   "id": "36db0d117b091765",
   "outputs": [],
   "execution_count": null
  },
  {
   "metadata": {},
   "cell_type": "code",
   "source": "df.head() # shows the dataframe's first 5 rows",
   "id": "c7d82f68614d2015",
   "outputs": [],
   "execution_count": null
  },
  {
   "metadata": {},
   "cell_type": "code",
   "source": "df.tail() # shows the dataframe's last 5 rows",
   "id": "df652f62f0b04f38",
   "outputs": [],
   "execution_count": null
  },
  {
   "metadata": {},
   "cell_type": "code",
   "source": "df.info() # shows the dataframe's basic information such as column types and number of entries",
   "id": "1a7848f8cb67240",
   "outputs": [],
   "execution_count": null
  },
  {
   "metadata": {},
   "cell_type": "code",
   "source": "df.describe() # shows some stats about the dataframe such as min, max and mean quantities for numeric columns",
   "id": "76c2d25ce81e1c46",
   "outputs": [],
   "execution_count": null
  },
  {
   "metadata": {},
   "cell_type": "code",
   "source": "df.columns # shows dataframe's column headings - NOTE there were no parentheses - no function call",
   "id": "cc8daa4623c13146",
   "outputs": [],
   "execution_count": null
  },
  {
   "metadata": {},
   "cell_type": "code",
   "source": "df.index # shows dataframe's index start, end and interval (step) - NOTE there were no parentheses - no function call",
   "id": "dd08ead13c90fb8d",
   "outputs": [],
   "execution_count": null
  },
  {
   "metadata": {},
   "cell_type": "markdown",
   "source": "### Use pandas to create a series (column)",
   "id": "e0544a8df4ad62a7"
  },
  {
   "metadata": {},
   "cell_type": "code",
   "source": "countries = df[\"Country\"] # Indexes the countries in the dataframe",
   "id": "693af396a055d560",
   "outputs": [],
   "execution_count": null
  },
  {
   "metadata": {},
   "cell_type": "code",
   "source": "countries # displays the countries series (column)",
   "id": "f9b21524eec97d6",
   "outputs": [],
   "execution_count": null
  },
  {
   "metadata": {},
   "cell_type": "code",
   "source": "len(countries) # gives the number of countries entries - total, not unique",
   "id": "1c2494f43ddc3f83",
   "outputs": [],
   "execution_count": null
  },
  {
   "metadata": {},
   "cell_type": "code",
   "source": "uniqco = set(countries) # creates a set of countries - uniques values",
   "id": "a85e2eb6a545c124",
   "outputs": [],
   "execution_count": null
  },
  {
   "metadata": {},
   "cell_type": "code",
   "source": "uniqco # displays the countries set",
   "id": "717473498047b3d9",
   "outputs": [],
   "execution_count": null
  },
  {
   "metadata": {},
   "cell_type": "code",
   "source": "len(uniqco) # gives the number of unique countries in the countries column",
   "id": "be7c3d3e60e20722",
   "outputs": [],
   "execution_count": null
  },
  {
   "metadata": {},
   "cell_type": "markdown",
   "source": "Create a new dataframe with specific data from the original dataframe",
   "id": "898bcde25cfb2c4f"
  },
  {
   "metadata": {},
   "cell_type": "code",
   "source": "df2 = df[[\"Country\", \"Product\", \"Category\"]]",
   "id": "15ff6f9989d7013c",
   "outputs": [],
   "execution_count": null
  },
  {
   "metadata": {},
   "cell_type": "code",
   "source": "df2",
   "id": "6fe970f5f708d2b4",
   "outputs": [],
   "execution_count": null
  },
  {
   "metadata": {},
   "cell_type": "markdown",
   "source": "### Create a new series based on a row using iloc (integer location)",
   "id": "424ebef779deed40"
  },
  {
   "metadata": {},
   "cell_type": "code",
   "source": [
    "df_row0 = df.iloc[0] # creates new series from the data in row with index (integer location of dataframe) 0\n",
    "df_row10 = df.iloc[10] # creates new series from the data in row with index (integer location of dataframe) 10"
   ],
   "id": "270c116214e5696e",
   "outputs": [],
   "execution_count": null
  },
  {
   "metadata": {},
   "cell_type": "code",
   "source": "df_row0 # displays the new series - could equally have displayed df_row10",
   "id": "991ce7df426d8ed7",
   "outputs": [],
   "execution_count": null
  },
  {
   "metadata": {},
   "cell_type": "code",
   "source": "df_row0[\"CustomerName\"] # Displays the \"CustomerName\" property value from df_row0",
   "id": "ac8335c077e082e5",
   "outputs": [],
   "execution_count": null
  },
  {
   "metadata": {},
   "cell_type": "code",
   "source": "df.iloc[0][\"CustomerName\"] # Same as above but directly on the df value using iloc()",
   "id": "38b71f925f7c9993",
   "outputs": [],
   "execution_count": null
  },
  {
   "metadata": {},
   "cell_type": "code",
   "source": "df_row0[1] # deprecated! - displays index 1 value of df_row[1]",
   "id": "dd8c9c1c4a5b2fdf",
   "outputs": [],
   "execution_count": null
  },
  {
   "metadata": {},
   "cell_type": "code",
   "source": "df.iloc[0][1] # deprecated! - same as above but directly on the df value using iloc()",
   "id": "b6e419e20608f9ae",
   "outputs": [],
   "execution_count": null
  },
  {
   "metadata": {},
   "cell_type": "code",
   "source": "list(df_row0) # creates a list from the df_row0 series data",
   "id": "dd86cfd56e72d2c4",
   "outputs": [],
   "execution_count": null
  },
  {
   "metadata": {},
   "cell_type": "code",
   "source": "dict(df_row0) # creates a dictionary from the df_row0 series data",
   "id": "72a7d6abed2aced3",
   "outputs": [],
   "execution_count": null
  },
  {
   "metadata": {},
   "cell_type": "markdown",
   "source": "### Create a new dataframe based on multiple rows using iloc (integer location)",
   "id": "a697b03b83896114"
  },
  {
   "metadata": {},
   "cell_type": "code",
   "source": "df_rows_0_2 = df.iloc[0:3] # creates new dataframe from the data in row3 with index (integer location of dataframe) 0 to 3 EXCLUSIVE, i.e. 0 to 2",
   "id": "98a1824654652460",
   "outputs": [],
   "execution_count": null
  },
  {
   "metadata": {},
   "cell_type": "code",
   "source": "df_rows_0_2",
   "id": "13b8607a3a810df5",
   "outputs": [],
   "execution_count": null
  }
 ],
 "metadata": {
  "kernelspec": {
   "display_name": "Python 3",
   "language": "python",
   "name": "python3"
  },
  "language_info": {
   "codemirror_mode": {
    "name": "ipython",
    "version": 2
   },
   "file_extension": ".py",
   "mimetype": "text/x-python",
   "name": "python",
   "nbconvert_exporter": "python",
   "pygments_lexer": "ipython2",
   "version": "2.7.6"
  }
 },
 "nbformat": 4,
 "nbformat_minor": 5
}
