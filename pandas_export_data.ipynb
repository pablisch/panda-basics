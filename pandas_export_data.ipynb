{
 "cells": [
  {
   "metadata": {},
   "cell_type": "markdown",
   "source": "Import pandas and read a data csv file",
   "id": "10985f70c063b4de"
  },
  {
   "metadata": {
    "collapsed": true,
    "ExecuteTime": {
     "end_time": "2025-09-14T08:56:00.083487Z",
     "start_time": "2025-09-14T08:55:59.942919Z"
    }
   },
   "cell_type": "code",
   "source": [
    "import pandas as pd\n",
    "\n",
    "df = pd.read_csv(\"orders.csv\")"
   ],
   "id": "6a80a4efb3333e5b",
   "outputs": [],
   "execution_count": 1
  },
  {
   "metadata": {},
   "cell_type": "markdown",
   "source": "Modification using loc",
   "id": "b3c390e9a2d7e755"
  },
  {
   "metadata": {},
   "cell_type": "code",
   "source": "df # shows the dataframe",
   "id": "36db0d117b091765",
   "outputs": [],
   "execution_count": null
  },
  {
   "metadata": {
    "ExecuteTime": {
     "end_time": "2025-09-14T08:56:02.887598Z",
     "start_time": "2025-09-14T08:56:02.885119Z"
    }
   },
   "cell_type": "code",
   "source": "df_sort = df.sort_values(\"Price\", ascending=False) # Creates new df where rows in price appear in descending order",
   "id": "bd29fa6f1b0ee13f",
   "outputs": [],
   "execution_count": 2
  },
  {
   "metadata": {
    "ExecuteTime": {
     "end_time": "2025-09-14T08:57:27.972735Z",
     "start_time": "2025-09-14T08:57:27.966750Z"
    }
   },
   "cell_type": "code",
   "source": "df_sort.to_csv(\"sorted_by_price_data.csv\", index=False) # Saves dataframe as csv without the added indexing",
   "id": "3b5da5d3572bef37",
   "outputs": [],
   "execution_count": 3
  }
 ],
 "metadata": {
  "kernelspec": {
   "display_name": "Python 3",
   "language": "python",
   "name": "python3"
  },
  "language_info": {
   "codemirror_mode": {
    "name": "ipython",
    "version": 2
   },
   "file_extension": ".py",
   "mimetype": "text/x-python",
   "name": "python",
   "nbconvert_exporter": "python",
   "pygments_lexer": "ipython2",
   "version": "2.7.6"
  }
 },
 "nbformat": 4,
 "nbformat_minor": 5
}
