{
 "cells": [
  {
   "metadata": {},
   "cell_type": "markdown",
   "source": "# Contents of this Repo",
   "id": "8a88ebf3e68f2f57"
  },
  {
   "metadata": {},
   "cell_type": "markdown",
   "source": [
    "## Pandas basics\n",
    "- Basic pandas commands - head, tail, info, describe, columns and index\n",
    "- Creating a series - and basic commands\n",
    "- Creating a reduced dataframe from a dataframe\n",
    "- Using iloc to create a series\n",
    "- Using iloc to create a new dataframe"
   ],
   "id": "b5bd67d9ef48c678"
  }
 ],
 "metadata": {
  "kernelspec": {
   "display_name": "Python 3",
   "language": "python",
   "name": "python3"
  },
  "language_info": {
   "codemirror_mode": {
    "name": "ipython",
    "version": 2
   },
   "file_extension": ".py",
   "mimetype": "text/x-python",
   "name": "python",
   "nbconvert_exporter": "python",
   "pygments_lexer": "ipython2",
   "version": "2.7.6"
  }
 },
 "nbformat": 4,
 "nbformat_minor": 5
}
